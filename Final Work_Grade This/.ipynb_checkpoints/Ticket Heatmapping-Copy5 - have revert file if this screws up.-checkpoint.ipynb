{
 "cells": [
  {
   "cell_type": "code",
   "execution_count": 98,
   "metadata": {},
   "outputs": [],
   "source": [
    "import pandas as pd\n",
    "import matplotlib.pyplot as plt\n",
    "import datetime\n",
    "import glob\n",
    "import numpy as np\n",
    "import plotly.plotly as py\n",
    "import plotly.figure_factory as ff\n",
    "from mpl_toolkits.basemap import Basemap\n",
    "import folium\n",
    "from folium.plugins import HeatMap\n",
    "from folium import plugins\n",
    "folium.plugins.HeatMap\n",
    "\n",
    "%matplotlib inline"
   ]
  },
  {
   "cell_type": "code",
   "execution_count": 99,
   "metadata": {},
   "outputs": [
    {
     "data": {
      "text/plain": [
       "['./Resources/April_2017.csv',\n",
       " './Resources/August_2017.csv',\n",
       " './Resources/December_2017.csv',\n",
       " './Resources/February_2017.csv',\n",
       " './Resources/January_2017.csv',\n",
       " './Resources/July_2017.csv',\n",
       " './Resources/June_2017.csv',\n",
       " './Resources/March_2017.csv',\n",
       " './Resources/May_2017.csv',\n",
       " './Resources/November_2017.csv',\n",
       " './Resources/October_2017.csv',\n",
       " './Resources/September_2017.csv']"
      ]
     },
     "execution_count": 99,
     "metadata": {},
     "output_type": "execute_result"
    }
   ],
   "source": [
    "filelist = glob.glob('./Resources/*.csv')\n",
    "filelist\n",
    "\n",
    "#for filename in glob.glob('./Resources/*.csv')"
   ]
  },
  {
   "cell_type": "code",
   "execution_count": 100,
   "metadata": {},
   "outputs": [],
   "source": [
    "f = open(filelist[0])\n",
    "columns = f.readline()\n",
    "columns = columns.strip().split(',')\n",
    "columns[0] = 'X'\n",
    "f.close()\n",
    "\n",
    "columns += ['MONTH', 'SEASON']\n",
    "\n",
    "master_df = pd.DataFrame(columns = columns)\n",
    "\n",
    "for filename in filelist:\n",
    "    month_csv = pd.read_csv(filename)\n",
    "    month_df = pd.DataFrame(month_csv)\n",
    "    month_df['MONTH'] = filename.split('/')[1][:-9]\n",
    "    if \"April\" in filename or \"March\" in filename or \"May\" in filename:\n",
    "        month_df[\"SEASON\"] = \"Spring\"\n",
    "    elif \"January\" in filename or \"February\" in filename or \"December\" in filename:\n",
    "        month_df[\"SEASON\"] = \"Winter\"\n",
    "    elif \"June\" in filename or \"July\" in filename or \"August\" in filename:\n",
    "        month_df[\"SEASON\"] = \"Summer\"\n",
    "    elif \"September\" in filename or \"October\" in filename or \"November\" in filename:\n",
    "        month_df[\"SEASON\"] = \"Fall\"\n",
    "    else:\n",
    "        month_df[\"SEASON\"] = \"Oh no!\"\n",
    "        \n",
    "    master_df = pd.concat([master_df, month_df], axis=0, sort=False)"
   ]
  },
  {
   "cell_type": "code",
   "execution_count": 101,
   "metadata": {},
   "outputs": [
    {
     "data": {
      "text/html": [
       "<div>\n",
       "<style scoped>\n",
       "    .dataframe tbody tr th:only-of-type {\n",
       "        vertical-align: middle;\n",
       "    }\n",
       "\n",
       "    .dataframe tbody tr th {\n",
       "        vertical-align: top;\n",
       "    }\n",
       "\n",
       "    .dataframe thead th {\n",
       "        text-align: right;\n",
       "    }\n",
       "</style>\n",
       "<table border=\"1\" class=\"dataframe\">\n",
       "  <thead>\n",
       "    <tr style=\"text-align: right;\">\n",
       "      <th></th>\n",
       "      <th>X</th>\n",
       "      <th>Y</th>\n",
       "      <th>OBJECTID</th>\n",
       "      <th>VIOLATION_CODE</th>\n",
       "      <th>VIOLATION_DESCRIPTION</th>\n",
       "      <th>LOCATION</th>\n",
       "      <th>RP_PLATE_STATE</th>\n",
       "      <th>ADDRESS_ID</th>\n",
       "      <th>STREETSEGID</th>\n",
       "      <th>XCOORD</th>\n",
       "      <th>YCOORD</th>\n",
       "      <th>TICKET_ISSUE_DATE</th>\n",
       "      <th>MONTH</th>\n",
       "      <th>SEASON</th>\n",
       "    </tr>\n",
       "  </thead>\n",
       "  <tbody>\n",
       "    <tr>\n",
       "      <th>0</th>\n",
       "      <td>-76.990896</td>\n",
       "      <td>38.892807</td>\n",
       "      <td>2750258</td>\n",
       "      <td>P050</td>\n",
       "      <td>PARKED WITHIN 25 FEET OF A STOP SIGN</td>\n",
       "      <td>1100 BLOCK PARK ST NE NORTH SIDE</td>\n",
       "      <td>VA</td>\n",
       "      <td>801357</td>\n",
       "      <td>1321.0</td>\n",
       "      <td>400790</td>\n",
       "      <td>136106</td>\n",
       "      <td>2017-04-24T08:36:00.000Z</td>\n",
       "      <td></td>\n",
       "      <td>Spring</td>\n",
       "    </tr>\n",
       "    <tr>\n",
       "      <th>1</th>\n",
       "      <td>-76.980569</td>\n",
       "      <td>38.888851</td>\n",
       "      <td>2750259</td>\n",
       "      <td>P002</td>\n",
       "      <td>STAND OR PARK IN ALLEY</td>\n",
       "      <td>SIDE OF 1700 A ST SE SOUTH SIDE</td>\n",
       "      <td>DC</td>\n",
       "      <td>57985</td>\n",
       "      <td>13169.0</td>\n",
       "      <td>401686</td>\n",
       "      <td>135667</td>\n",
       "      <td>2017-04-24T10:26:00.000Z</td>\n",
       "      <td></td>\n",
       "      <td>Spring</td>\n",
       "    </tr>\n",
       "    <tr>\n",
       "      <th>2</th>\n",
       "      <td>-76.980569</td>\n",
       "      <td>38.888851</td>\n",
       "      <td>2750260</td>\n",
       "      <td>P170</td>\n",
       "      <td>FAILURE TO DISPLAY CURRENT TAGS</td>\n",
       "      <td>SIDE OF 1700 A ST SE SOUTH SIDE</td>\n",
       "      <td>DC</td>\n",
       "      <td>57985</td>\n",
       "      <td>13169.0</td>\n",
       "      <td>401686</td>\n",
       "      <td>135667</td>\n",
       "      <td>2017-04-24T10:28:00.000Z</td>\n",
       "      <td></td>\n",
       "      <td>Spring</td>\n",
       "    </tr>\n",
       "    <tr>\n",
       "      <th>3</th>\n",
       "      <td>-76.979301</td>\n",
       "      <td>38.888518</td>\n",
       "      <td>2750261</td>\n",
       "      <td>P303</td>\n",
       "      <td>RESERVED RESIDENTIAL SPACE PERSONS W/ DISABILTIES</td>\n",
       "      <td>FRONT OF 1753 A ST SE SOUTH SIDE</td>\n",
       "      <td>DC</td>\n",
       "      <td>56532</td>\n",
       "      <td>13169.0</td>\n",
       "      <td>401796</td>\n",
       "      <td>135630</td>\n",
       "      <td>2017-04-24T10:33:00.000Z</td>\n",
       "      <td></td>\n",
       "      <td>Spring</td>\n",
       "    </tr>\n",
       "    <tr>\n",
       "      <th>4</th>\n",
       "      <td>-76.981491</td>\n",
       "      <td>38.888680</td>\n",
       "      <td>2750262</td>\n",
       "      <td>P003</td>\n",
       "      <td>RESIDENTIAL PERMIT PKING BEYOND LIMIT W/O PERMIT</td>\n",
       "      <td>1700 BLOCK A ST SE NORTH SIDE</td>\n",
       "      <td>VA</td>\n",
       "      <td>802308</td>\n",
       "      <td>2993.0</td>\n",
       "      <td>401606</td>\n",
       "      <td>135648</td>\n",
       "      <td>2017-04-24T12:23:00.000Z</td>\n",
       "      <td></td>\n",
       "      <td>Spring</td>\n",
       "    </tr>\n",
       "  </tbody>\n",
       "</table>\n",
       "</div>"
      ],
      "text/plain": [
       "           X          Y OBJECTID VIOLATION_CODE  \\\n",
       "0 -76.990896  38.892807  2750258           P050   \n",
       "1 -76.980569  38.888851  2750259           P002   \n",
       "2 -76.980569  38.888851  2750260           P170   \n",
       "3 -76.979301  38.888518  2750261           P303   \n",
       "4 -76.981491  38.888680  2750262           P003   \n",
       "\n",
       "                               VIOLATION_DESCRIPTION  \\\n",
       "0               PARKED WITHIN 25 FEET OF A STOP SIGN   \n",
       "1                             STAND OR PARK IN ALLEY   \n",
       "2                    FAILURE TO DISPLAY CURRENT TAGS   \n",
       "3  RESERVED RESIDENTIAL SPACE PERSONS W/ DISABILTIES   \n",
       "4   RESIDENTIAL PERMIT PKING BEYOND LIMIT W/O PERMIT   \n",
       "\n",
       "                           LOCATION RP_PLATE_STATE ADDRESS_ID  STREETSEGID  \\\n",
       "0  1100 BLOCK PARK ST NE NORTH SIDE             VA     801357       1321.0   \n",
       "1   SIDE OF 1700 A ST SE SOUTH SIDE             DC      57985      13169.0   \n",
       "2   SIDE OF 1700 A ST SE SOUTH SIDE             DC      57985      13169.0   \n",
       "3  FRONT OF 1753 A ST SE SOUTH SIDE             DC      56532      13169.0   \n",
       "4     1700 BLOCK A ST SE NORTH SIDE             VA     802308       2993.0   \n",
       "\n",
       "   XCOORD  YCOORD         TICKET_ISSUE_DATE MONTH  SEASON  \n",
       "0  400790  136106  2017-04-24T08:36:00.000Z        Spring  \n",
       "1  401686  135667  2017-04-24T10:26:00.000Z        Spring  \n",
       "2  401686  135667  2017-04-24T10:28:00.000Z        Spring  \n",
       "3  401796  135630  2017-04-24T10:33:00.000Z        Spring  \n",
       "4  401606  135648  2017-04-24T12:23:00.000Z        Spring  "
      ]
     },
     "execution_count": 101,
     "metadata": {},
     "output_type": "execute_result"
    }
   ],
   "source": [
    "master_df = master_df.drop([\"ROWID_\", \"DAY_OF_WEEK\", \"HOLIDAY\", \"WEEK_OF_YEAR\", \"MONTH_OF_YEAR\", \"ISSUE_TIME\", \"BODY_STYLE\"], axis = 1)\n",
    "master_df.head()"
   ]
  },
  {
   "cell_type": "code",
   "execution_count": 107,
   "metadata": {},
   "outputs": [
    {
     "data": {
      "text/html": [
       "<div>\n",
       "<style scoped>\n",
       "    .dataframe tbody tr th:only-of-type {\n",
       "        vertical-align: middle;\n",
       "    }\n",
       "\n",
       "    .dataframe tbody tr th {\n",
       "        vertical-align: top;\n",
       "    }\n",
       "\n",
       "    .dataframe thead th {\n",
       "        text-align: right;\n",
       "    }\n",
       "</style>\n",
       "<table border=\"1\" class=\"dataframe\">\n",
       "  <thead>\n",
       "    <tr style=\"text-align: right;\">\n",
       "      <th></th>\n",
       "      <th>X</th>\n",
       "      <th>Y</th>\n",
       "    </tr>\n",
       "  </thead>\n",
       "  <tbody>\n",
       "    <tr>\n",
       "      <th>0</th>\n",
       "      <td>-76.990896</td>\n",
       "      <td>38.892807</td>\n",
       "    </tr>\n",
       "    <tr>\n",
       "      <th>1</th>\n",
       "      <td>-76.980569</td>\n",
       "      <td>38.888851</td>\n",
       "    </tr>\n",
       "    <tr>\n",
       "      <th>2</th>\n",
       "      <td>-76.980569</td>\n",
       "      <td>38.888851</td>\n",
       "    </tr>\n",
       "    <tr>\n",
       "      <th>3</th>\n",
       "      <td>-76.979301</td>\n",
       "      <td>38.888518</td>\n",
       "    </tr>\n",
       "    <tr>\n",
       "      <th>4</th>\n",
       "      <td>-76.981491</td>\n",
       "      <td>38.888680</td>\n",
       "    </tr>\n",
       "  </tbody>\n",
       "</table>\n",
       "</div>"
      ],
      "text/plain": [
       "           X          Y\n",
       "0 -76.990896  38.892807\n",
       "1 -76.980569  38.888851\n",
       "2 -76.980569  38.888851\n",
       "3 -76.979301  38.888518\n",
       "4 -76.981491  38.888680"
      ]
     },
     "execution_count": 107,
     "metadata": {},
     "output_type": "execute_result"
    }
   ],
   "source": [
    "map_df = master_df[['X', 'Y']].copy()\n",
    "map_df.head()"
   ]
  },
  {
   "cell_type": "code",
   "execution_count": 108,
   "metadata": {},
   "outputs": [
    {
     "data": {
      "text/plain": [
       "X    1404052\n",
       "Y    1404052\n",
       "dtype: int64"
      ]
     },
     "execution_count": 108,
     "metadata": {},
     "output_type": "execute_result"
    }
   ],
   "source": [
    "map_df.count()"
   ]
  },
  {
   "cell_type": "code",
   "execution_count": 13,
   "metadata": {},
   "outputs": [
    {
     "data": {
      "text/html": [
       "<div style=\"width:100%;\"><div style=\"position:relative;width:100%;height:0;padding-bottom:60%;\"><iframe src=\"data:text/html;charset=utf-8;base64,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\" style=\"position:absolute;width:100%;height:100%;left:0;top:0;border:none !important;\" allowfullscreen webkitallowfullscreen mozallowfullscreen></iframe></div></div>"
      ],
      "text/plain": [
       "<folium.folium.Map at 0x1a108e4518>"
      ]
     },
     "execution_count": 13,
     "metadata": {},
     "output_type": "execute_result"
    }
   ],
   "source": [
    "Map = folium.Map([38.9072, -77.0369], zoom_start=13)\n",
    "Map"
   ]
  },
  {
   "cell_type": "code",
   "execution_count": 15,
   "metadata": {},
   "outputs": [
    {
     "ename": "NameError",
     "evalue": "name 'Map' is not defined",
     "output_type": "error",
     "traceback": [
      "\u001b[0;31m---------------------------------------------------------------------------\u001b[0m",
      "\u001b[0;31mNameError\u001b[0m                                 Traceback (most recent call last)",
      "\u001b[0;32m<ipython-input-15-054cf0dba082>\u001b[0m in \u001b[0;36m<module>\u001b[0;34m()\u001b[0m\n\u001b[1;32m      3\u001b[0m                         \u001b[0mradius\u001b[0m\u001b[0;34m=\u001b[0m\u001b[0;36m15\u001b[0m\u001b[0;34m,\u001b[0m\u001b[0;34m\u001b[0m\u001b[0m\n\u001b[1;32m      4\u001b[0m                         \u001b[0mfill_color\u001b[0m\u001b[0;34m=\u001b[0m\u001b[0;34m\"#3db7e4\"\u001b[0m\u001b[0;34m,\u001b[0m\u001b[0;34m\u001b[0m\u001b[0m\n\u001b[0;32m----> 5\u001b[0;31m                        ).add_to(Map)\n\u001b[0m",
      "\u001b[0;31mNameError\u001b[0m: name 'Map' is not defined"
     ]
    }
   ],
   "source": [
    "for index, row in map_df.iterrows():\n",
    "    folium.CircleMarker([row['X'], row['Y']],\n",
    "                        radius=15,\n",
    "                        fill_color=\"#3db7e4\",\n",
    "                       ).add_to(Map)"
   ]
  },
  {
   "cell_type": "code",
   "execution_count": 109,
   "metadata": {},
   "outputs": [
    {
     "data": {
      "text/plain": [
       "X    26723\n",
       "Y    26723\n",
       "dtype: int64"
      ]
     },
     "execution_count": 109,
     "metadata": {},
     "output_type": "execute_result"
    }
   ],
   "source": [
    "maptest_df = map_df.drop_duplicates()\n",
    "maptest_df.count()"
   ]
  },
  {
   "cell_type": "markdown",
   "metadata": {},
   "source": [
    "Had I had more weeks to dig into this data, I would have been interested to see how DC's ticketing rate stacks up against the rest of the country."
   ]
  },
  {
   "cell_type": "code",
   "execution_count": 112,
   "metadata": {
    "scrolled": true
   },
   "outputs": [],
   "source": [
    "m = folium.Map([38.9072, -77.0369], control_scale = True, zoom_start=13)"
   ]
  },
  {
   "cell_type": "code",
   "execution_count": 113,
   "metadata": {},
   "outputs": [
    {
     "data": {
      "text/html": [
       "<div>\n",
       "<style scoped>\n",
       "    .dataframe tbody tr th:only-of-type {\n",
       "        vertical-align: middle;\n",
       "    }\n",
       "\n",
       "    .dataframe tbody tr th {\n",
       "        vertical-align: top;\n",
       "    }\n",
       "\n",
       "    .dataframe thead th {\n",
       "        text-align: right;\n",
       "    }\n",
       "</style>\n",
       "<table border=\"1\" class=\"dataframe\">\n",
       "  <thead>\n",
       "    <tr style=\"text-align: right;\">\n",
       "      <th></th>\n",
       "      <th>Unnamed: 0</th>\n",
       "      <th>X</th>\n",
       "      <th>Y</th>\n",
       "    </tr>\n",
       "  </thead>\n",
       "  <tbody>\n",
       "    <tr>\n",
       "      <th>0</th>\n",
       "      <td>0</td>\n",
       "      <td>-76.990896</td>\n",
       "      <td>38.892807</td>\n",
       "    </tr>\n",
       "    <tr>\n",
       "      <th>1</th>\n",
       "      <td>1</td>\n",
       "      <td>-76.980569</td>\n",
       "      <td>38.888851</td>\n",
       "    </tr>\n",
       "    <tr>\n",
       "      <th>2</th>\n",
       "      <td>3</td>\n",
       "      <td>-76.979301</td>\n",
       "      <td>38.888518</td>\n",
       "    </tr>\n",
       "    <tr>\n",
       "      <th>3</th>\n",
       "      <td>4</td>\n",
       "      <td>-76.981491</td>\n",
       "      <td>38.888680</td>\n",
       "    </tr>\n",
       "    <tr>\n",
       "      <th>4</th>\n",
       "      <td>5</td>\n",
       "      <td>-76.978125</td>\n",
       "      <td>38.888679</td>\n",
       "    </tr>\n",
       "  </tbody>\n",
       "</table>\n",
       "</div>"
      ],
      "text/plain": [
       "   Unnamed: 0          X          Y\n",
       "0           0 -76.990896  38.892807\n",
       "1           1 -76.980569  38.888851\n",
       "2           3 -76.979301  38.888518\n",
       "3           4 -76.981491  38.888680\n",
       "4           5 -76.978125  38.888679"
      ]
     },
     "execution_count": 113,
     "metadata": {},
     "output_type": "execute_result"
    }
   ],
   "source": [
    "mapdf = pd.read_csv(\"testmap.csv\")\n",
    "mapdf.head()"
   ]
  },
  {
   "cell_type": "code",
   "execution_count": 114,
   "metadata": {},
   "outputs": [],
   "source": [
    "# mark each station as a point\n",
    "for index, row in mapdf.iterrows():\n",
    "    folium.CircleMarker([row['X'], row['Y']],\n",
    "                        radius=1,\n",
    "                        fill_color=\"#FFC0CB\", # divvy color\n",
    "                       ).add_to(m)"
   ]
  },
  {
   "cell_type": "code",
   "execution_count": 119,
   "metadata": {
    "scrolled": false
   },
   "outputs": [
    {
     "data": {
      "text/html": [
       "<div style=\"width:100%;\"><div style=\"position:relative;width:100%;height:0;padding-bottom:60%;\"><iframe src=\"data:text/html;charset=utf-8;base64,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\" style=\"position:absolute;width:100%;height:100%;left:0;top:0;border:none !important;\" allowfullscreen webkitallowfullscreen mozallowfullscreen></iframe></div></div>"
      ],
      "text/plain": [
       "<folium.folium.Map at 0x1a889ec438>"
      ]
     },
     "execution_count": 119,
     "metadata": {},
     "output_type": "execute_result"
    }
   ],
   "source": [
    "# convert to (n, 2) nd-array format for heatmap\n",
    "\n",
    "mapdf[\"X\"] = pd.to_numeric(mapdf[\"X\"])\n",
    "mapdf[\"Y\"] = pd.to_numeric(mapdf[\"Y\"])\n",
    "\n",
    "ticketlocs = mapdf[['Y', 'X']].values.tolist()\n",
    "\n",
    "\n",
    "# plot heatmap\n",
    "m.add_child(plugins.HeatMap(ticketlocs, radius=2))\n",
    "\n",
    "m"
   ]
  },
  {
   "cell_type": "code",
   "execution_count": null,
   "metadata": {},
   "outputs": [],
   "source": []
  },
  {
   "cell_type": "code",
   "execution_count": null,
   "metadata": {},
   "outputs": [],
   "source": []
  }
 ],
 "metadata": {
  "kernelspec": {
   "display_name": "Python 3",
   "language": "python",
   "name": "python3"
  },
  "language_info": {
   "codemirror_mode": {
    "name": "ipython",
    "version": 3
   },
   "file_extension": ".py",
   "mimetype": "text/x-python",
   "name": "python",
   "nbconvert_exporter": "python",
   "pygments_lexer": "ipython3",
   "version": "3.6.5"
  }
 },
 "nbformat": 4,
 "nbformat_minor": 2
}

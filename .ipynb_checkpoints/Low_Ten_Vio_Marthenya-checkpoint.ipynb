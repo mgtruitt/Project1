{
 "cells": [
  {
   "cell_type": "code",
   "execution_count": 1,
   "metadata": {},
   "outputs": [],
   "source": [
    "import pandas as pd\n",
    "import matplotlib.pyplot as plt\n",
    "import numpy as np\n",
    "import datetime\n",
    "import glob\n",
    "import matplotlib as mpl\n",
    "from vaderSentiment.vaderSentiment import SentimentIntensityAnalyzer\n",
    "analyzer = SentimentIntensityAnalyzer()\n",
    "import os"
   ]
  },
  {
   "cell_type": "code",
   "execution_count": 2,
   "metadata": {},
   "outputs": [
    {
     "data": {
      "text/plain": [
       "[]"
      ]
     },
     "execution_count": 2,
     "metadata": {},
     "output_type": "execute_result"
    }
   ],
   "source": [
    "filelist = glob.glob('./Resources/*.csv')\n",
    "filelist\n",
    "\n",
    "#for filename in glob.glob('./Resources/*.csv')"
   ]
  },
  {
   "cell_type": "code",
   "execution_count": 3,
   "metadata": {},
   "outputs": [
    {
     "ename": "IndexError",
     "evalue": "list index out of range",
     "output_type": "error",
     "traceback": [
      "\u001b[1;31m---------------------------------------------------------------------------\u001b[0m",
      "\u001b[1;31mIndexError\u001b[0m                                Traceback (most recent call last)",
      "\u001b[1;32m<ipython-input-3-0ea3dcc4d6dd>\u001b[0m in \u001b[0;36m<module>\u001b[1;34m()\u001b[0m\n\u001b[1;32m----> 1\u001b[1;33m \u001b[0mf\u001b[0m \u001b[1;33m=\u001b[0m \u001b[0mopen\u001b[0m\u001b[1;33m(\u001b[0m\u001b[0mfilelist\u001b[0m\u001b[1;33m[\u001b[0m\u001b[1;36m0\u001b[0m\u001b[1;33m]\u001b[0m\u001b[1;33m)\u001b[0m\u001b[1;33m\u001b[0m\u001b[0m\n\u001b[0m\u001b[0;32m      2\u001b[0m \u001b[0mcolumns\u001b[0m \u001b[1;33m=\u001b[0m \u001b[0mf\u001b[0m\u001b[1;33m.\u001b[0m\u001b[0mreadline\u001b[0m\u001b[1;33m(\u001b[0m\u001b[1;33m)\u001b[0m\u001b[1;33m\u001b[0m\u001b[0m\n\u001b[0;32m      3\u001b[0m \u001b[0mcolumns\u001b[0m \u001b[1;33m=\u001b[0m \u001b[0mcolumns\u001b[0m\u001b[1;33m.\u001b[0m\u001b[0mstrip\u001b[0m\u001b[1;33m(\u001b[0m\u001b[1;33m)\u001b[0m\u001b[1;33m.\u001b[0m\u001b[0msplit\u001b[0m\u001b[1;33m(\u001b[0m\u001b[1;34m','\u001b[0m\u001b[1;33m)\u001b[0m\u001b[1;33m\u001b[0m\u001b[0m\n\u001b[0;32m      4\u001b[0m \u001b[0mcolumns\u001b[0m\u001b[1;33m[\u001b[0m\u001b[1;36m0\u001b[0m\u001b[1;33m]\u001b[0m \u001b[1;33m=\u001b[0m \u001b[1;34m'X'\u001b[0m\u001b[1;33m\u001b[0m\u001b[0m\n\u001b[0;32m      5\u001b[0m \u001b[0mf\u001b[0m\u001b[1;33m.\u001b[0m\u001b[0mclose\u001b[0m\u001b[1;33m(\u001b[0m\u001b[1;33m)\u001b[0m\u001b[1;33m\u001b[0m\u001b[0m\n",
      "\u001b[1;31mIndexError\u001b[0m: list index out of range"
     ]
    }
   ],
   "source": [
    "f = open(filelist[0])\n",
    "columns = f.readline()\n",
    "columns = columns.strip().split(',')\n",
    "columns[0] = 'X'\n",
    "f.close()\n",
    "\n",
    "columns += ['MONTH', 'SEASON']\n",
    "\n",
    "master_df = pd.DataFrame(columns = columns)\n",
    "\n",
    "for filename in filelist:\n",
    "    month_csv = pd.read_csv(filename)\n",
    "    month_df = pd.DataFrame(month_csv)\n",
    "    month_df['MONTH'] = filename.split('\\\\')[1][:-9]\n",
    "    if \"April\" in filename or \"March\" in filename or \"May\" in filename:\n",
    "        month_df[\"SEASON\"] = \"Spring\"\n",
    "    elif \"January\" in filename or \"February\" in filename or \"December\" in filename:\n",
    "        month_df[\"SEASON\"] = \"Winter\"\n",
    "    elif \"June\" in filename or \"July\" in filename or \"August\" in filename:\n",
    "        month_df[\"SEASON\"] = \"Summer\"\n",
    "    elif \"September\" in filename or \"October\" in filename or \"November\" in filename:\n",
    "        month_df[\"SEASON\"] = \"Fall\"\n",
    "    else:\n",
    "        month_df[\"SEASON\"] = \"Oh no!\"\n",
    "        \n",
    "    master_df = pd.concat([master_df, month_df], axis=0)"
   ]
  },
  {
   "cell_type": "code",
   "execution_count": null,
   "metadata": {},
   "outputs": [],
   "source": [
    "master_df.count()"
   ]
  },
  {
   "cell_type": "code",
   "execution_count": null,
   "metadata": {},
   "outputs": [],
   "source": [
    "master_df.head()"
   ]
  },
  {
   "cell_type": "code",
   "execution_count": null,
   "metadata": {},
   "outputs": [],
   "source": [
    "master_df = master_df.drop([\"ROWID_\", \"DAY_OF_WEEK\", \"HOLIDAY\", \"WEEK_OF_YEAR\", \"MONTH_OF_YEAR\", \"ISSUE_TIME\", \"BODY_STYLE\"], axis = 1)\n",
    "master_df.head()"
   ]
  },
  {
   "cell_type": "code",
   "execution_count": null,
   "metadata": {},
   "outputs": [],
   "source": [
    "master_df.to_csv(\"TicketsDF.csv\")"
   ]
  },
  {
   "cell_type": "code",
   "execution_count": null,
   "metadata": {},
   "outputs": [],
   "source": [
    "with pd.option_context(\"display.max_rows\", 10000):\n",
    "   print(master_df[\"VIOLATION_DESCRIPTION\"].value_counts())"
   ]
  },
  {
   "cell_type": "code",
   "execution_count": null,
   "metadata": {},
   "outputs": [],
   "source": [
    "len(master_df[\"VIOLATION_CODE\"].value_counts())"
   ]
  },
  {
   "cell_type": "code",
   "execution_count": null,
   "metadata": {},
   "outputs": [],
   "source": [
    "len(master_df[\"VIOLATION_DESCRIPTION\"].value_counts())"
   ]
  },
  {
   "cell_type": "code",
   "execution_count": null,
   "metadata": {},
   "outputs": [],
   "source": [
    "with pd.option_context(\"display.max_rows\", 1000):\n",
    "   print(master_df[\"VIOLATION_CODE\"].value_counts())"
   ]
  },
  {
   "cell_type": "code",
   "execution_count": null,
   "metadata": {},
   "outputs": [],
   "source": [
    "violations_df = master_df[\"VIOLATION_DESCRIPTION\"].value_counts()\n",
    "descriptions = master_df[\"VIOLATION_DESCRIPTION\"].unique()\n",
    "descriptions"
   ]
  },
  {
   "cell_type": "code",
   "execution_count": null,
   "metadata": {},
   "outputs": [],
   "source": [
    "viol_df = pd.DataFrame({\"Number of Violations\":violations_df})\n",
    "viol = viol_df[[\"Number of Violations\"]]\n",
    "viols = viol.sort_values(['Number of Violations'], ascending=True)\n",
    "violation_ten = viols.head(33)\n",
    "violation_ten.head()"
   ]
  },
  {
   "cell_type": "code",
   "execution_count": null,
   "metadata": {},
   "outputs": [],
   "source": [
    "thisone = master_df.groupby('VIOLATION_DESCRIPTION')[\"VIOLATION_CODE\"].count().reset_index()\n",
    "descriptions_df = thisone.sort_values(['VIOLATION_CODE'], ascending=True)\n",
    "description_df = descriptions_df.head(33)\n",
    "description_df.head()"
   ]
  },
  {
   "cell_type": "code",
   "execution_count": null,
   "metadata": {},
   "outputs": [],
   "source": [
    "# Create Dataframe of unique violation descriptions\n",
    "descdata = thisone[\"VIOLATION_DESCRIPTION\"].unique()"
   ]
  },
  {
   "cell_type": "code",
   "execution_count": null,
   "metadata": {},
   "outputs": [],
   "source": []
  },
  {
   "cell_type": "code",
   "execution_count": null,
   "metadata": {},
   "outputs": [],
   "source": [
    "sentiments = []\n",
    "for des in descdata:\n",
    "        results = analyzer.polarity_scores(des)\n",
    "        compound = results[\"compound\"]\n",
    "        pos = results[\"pos\"]\n",
    "        neu = results[\"neu\"]\n",
    "        neg = results[\"neg\"]\n",
    "        print(des)\n",
    "        print(\"Compound Score: \", compound)\n",
    "        print(\"Positive Score: \", pos)\n",
    "        print(\"Neutral Score: \", neu)\n",
    "        print(\"Negative Score: \", neg)\n",
    "        sentiments.append({\"Violation Description\": des, \"Compound\": compound, \"Positive\": pos, \n",
    "                           \"Negative\": neg, \"Neutral\": neu})"
   ]
  },
  {
   "cell_type": "code",
   "execution_count": null,
   "metadata": {},
   "outputs": [],
   "source": []
  },
  {
   "cell_type": "code",
   "execution_count": null,
   "metadata": {},
   "outputs": [],
   "source": [
    "sentiment_results = pd.DataFrame.from_dict(sentiments)\n",
    "sent_df = sentiment_results[['Violation Description', 'Compound', 'Positive', 'Neutral', 'Negative']]\n",
    "sent_df.head()"
   ]
  },
  {
   "cell_type": "code",
   "execution_count": null,
   "metadata": {},
   "outputs": [],
   "source": [
    "mpl.rcParams['font.size'] = 45"
   ]
  },
  {
   "cell_type": "code",
   "execution_count": null,
   "metadata": {},
   "outputs": [],
   "source": [
    "plt.figure(figsize=(55,45))\n",
    "x_vals = sent_df[\"Compound\"]\n",
    "y_vals = sent_df[\"Violation Description\"]\n",
    "plt.plot(x_vals, y_vals, marker=\"o\", linewidth=4, alpha=0.8)\n",
    "plt.title(\"Sentiment Analysis of Violations\", fontsize = 60, y=1.1)\n",
    "plt.ylabel(\"Violations\", fontsize = 55)\n",
    "plt.xlabel(\"Compound Sentiment\", fontsize = 55)\n",
    "plt.savefig(\"Sentiment.png\")\n",
    "plt.show()"
   ]
  },
  {
   "cell_type": "code",
   "execution_count": null,
   "metadata": {},
   "outputs": [],
   "source": [
    "ten_odd = [\"PARK WITH LEFT WHEEL TO CURB\", \"FAIL TO TURN WHEEL TO CURB\", \"COMMERCIAL VEHICLE - NOT OUT OF SERVICE\", \n",
    "           \"COMMERCIAL VEHICLE - OUT OF SERVICE\", \"UNNECESSARY NOISE\", \"PARK TO REDUCE ROADWAY TO LESS THAN 10 FEET\", \n",
    "           \"FAIL TO LOCK AND REMOVE KEY FROM IGNITION WHEN PKD\", \"PARK IN GUTTER\", \"PARK IN AN UNLIGHTED AREA (PARKING AREA)\", \n",
    "           \"FAILURE TO SECURE DC TAGS\"]\n",
    "odd_counts = [2582, 28, 532, 311, 1, 225, 26, 1, 21, 42728]\n",
    "y_axis = np.arange(len(odd_counts))"
   ]
  },
  {
   "cell_type": "code",
   "execution_count": null,
   "metadata": {},
   "outputs": [],
   "source": [
    "mpl.rcParams['font.size'] = 60"
   ]
  },
  {
   "cell_type": "code",
   "execution_count": null,
   "metadata": {},
   "outputs": [],
   "source": [
    "fig1, ax1 = plt.subplots(figsize=(85,65))\n",
    "plt.pie(odd_counts, labels = ten_odd, explode = (0.2, 0.2, 0.2, 0.2, 0.6, 0.5, 0.6, 0.8, 0.3, 0.3), shadow=True)\n",
    "plt.axis(\"equal\")\n",
    "plt.title('Ten Most Odd Reasons for Ticket', fontsize = 90, y=1.1)\n",
    "plt.savefig(\"Odd.png\")\n",
    "plt.show()"
   ]
  },
  {
   "cell_type": "code",
   "execution_count": null,
   "metadata": {},
   "outputs": [],
   "source": []
  }
 ],
 "metadata": {
  "kernelspec": {
   "display_name": "Python 3",
   "language": "python",
   "name": "python3"
  },
  "language_info": {
   "codemirror_mode": {
    "name": "ipython",
    "version": 3
   },
   "file_extension": ".py",
   "mimetype": "text/x-python",
   "name": "python",
   "nbconvert_exporter": "python",
   "pygments_lexer": "ipython3",
   "version": "3.6.4"
  }
 },
 "nbformat": 4,
 "nbformat_minor": 2
}
